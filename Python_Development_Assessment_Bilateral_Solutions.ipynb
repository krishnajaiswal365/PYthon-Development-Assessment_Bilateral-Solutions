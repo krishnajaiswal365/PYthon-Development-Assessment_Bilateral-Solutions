{
 "cells": [
  {
   "cell_type": "markdown",
   "id": "537b87a0",
   "metadata": {},
   "source": [
    "# 1. Write a Python function that takes a string as input and reverses it but with a twist: every vowel in the reversed string should be capitalized, and every consonant should be converted to lowercase. For example, if the input is \"Hello, World!\", the output should be \"!dLrOw ,oLlEh\"."
   ]
  },
  {
   "cell_type": "code",
   "execution_count": 1,
   "id": "5f692699",
   "metadata": {},
   "outputs": [
    {
     "name": "stdout",
     "output_type": "stream",
     "text": [
      "!dlrOw ,OllEh\n"
     ]
    }
   ],
   "source": [
    "def reverse_and_transform(s):\n",
    "    # Define vowels and create a set for faster lookups\n",
    "    vowels = 'aeiouAEIOU'\n",
    "    \n",
    "    # Reverse the string\n",
    "    reversed_s = s[::-1]\n",
    "    \n",
    "    # Transform the reversed string\n",
    "    transformed = ''.join(\n",
    "        char.upper() if char in vowels else char.lower() if char.isalpha() else char\n",
    "        for char in reversed_s\n",
    "    )\n",
    "    \n",
    "    return transformed\n",
    "\n",
    "# Example usage\n",
    "input_string = \"Hello, World!\"\n",
    "output_string = reverse_and_transform(input_string)\n",
    "print(output_string)  # Output: \"!dLrOw ,oLlEh\"\n"
   ]
  },
  {
   "cell_type": "markdown",
   "id": "87a24c9d",
   "metadata": {},
   "source": [
    "# 2. Design a Python function that takes a list of elements as input and returns the count of unique elements in the list. The function should not utilize any built-in Python libraries or functions related to counting or sets. \n"
   ]
  },
  {
   "cell_type": "code",
   "execution_count": 3,
   "id": "ebec53c5",
   "metadata": {},
   "outputs": [
    {
     "name": "stdout",
     "output_type": "stream",
     "text": [
      "5\n"
     ]
    }
   ],
   "source": [
    "def count_unique_elements(elements):\n",
    "    # Initialize an empty list to keep track of unique elements\n",
    "    unique_elements = []\n",
    "    \n",
    "    # Iterate through each element in the input list\n",
    "    for element in elements:\n",
    "        # Check if the element is not already in the unique_elements list\n",
    "        is_unique = True\n",
    "        for unique in unique_elements:\n",
    "            if unique == element:\n",
    "                is_unique = False\n",
    "                break\n",
    "        \n",
    "        # If the element is unique, add it to the unique_elements list\n",
    "        if is_unique:\n",
    "            unique_elements.append(element)\n",
    "    \n",
    "    # Return the count of unique elements\n",
    "    return len(unique_elements)\n",
    "\n",
    "# Example usage\n",
    "input_list = [1, 2, 2, 3, 4, 4, 5]\n",
    "unique_count = count_unique_elements(input_list)\n",
    "print(unique_count)  # Output: 5\n",
    "\n"
   ]
  },
  {
   "cell_type": "markdown",
   "id": "5c7fc04a",
   "metadata": {},
   "source": [
    "# 3. Query Writing Challenge: Consider a table orders with columns order_id, customer_id, order_date, and total_amount. Write a SQL query to calculate the total revenue generated in the last quarter, grouped by month."
   ]
  },
  {
   "cell_type": "code",
   "execution_count": null,
   "id": "da2867c3",
   "metadata": {},
   "outputs": [],
   "source": [
    "WITH last_quarter AS (\n",
    "    SELECT \n",
    "        DATE_TRUNC('quarter', CURRENT_DATE) - INTERVAL '3 months' AS start_date,\n",
    "        DATE_TRUNC('quarter', CURRENT_DATE) - INTERVAL '1 day' AS end_date\n",
    "),\n",
    "revenue_per_month AS (\n",
    "    SELECT\n",
    "        DATE_TRUNC('month', order_date) AS month,\n",
    "        SUM(total_amount) AS total_revenue\n",
    "    FROM\n",
    "        orders\n",
    "    WHERE\n",
    "        order_date BETWEEN (SELECT start_date FROM last_quarter)\n",
    "        AND (SELECT end_date FROM last_quarter)\n",
    "    GROUP BY\n",
    "        DATE_TRUNC('month', order_date)\n",
    ")\n",
    "SELECT\n",
    "    month,\n",
    "    total_revenue\n",
    "FROM\n",
    "    revenue_per_month\n",
    "ORDER BY\n",
    "    month;\n"
   ]
  }
 ],
 "metadata": {
  "kernelspec": {
   "display_name": "Python 3 (ipykernel)",
   "language": "python",
   "name": "python3"
  },
  "language_info": {
   "codemirror_mode": {
    "name": "ipython",
    "version": 3
   },
   "file_extension": ".py",
   "mimetype": "text/x-python",
   "name": "python",
   "nbconvert_exporter": "python",
   "pygments_lexer": "ipython3",
   "version": "3.11.4"
  }
 },
 "nbformat": 4,
 "nbformat_minor": 5
}
